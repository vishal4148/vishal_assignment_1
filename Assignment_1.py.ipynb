{
 "cells": [
  {
   "cell_type": "markdown",
   "id": "37fab29a",
   "metadata": {},
   "source": [
    "# 1)Write a Python program to get the Fibonacci series between 0 to 50"
   ]
  },
  {
   "cell_type": "code",
   "execution_count": 1,
   "id": "8bd1a2c4",
   "metadata": {},
   "outputs": [],
   "source": [
    "#The Fibonacci Sequence is the series of numbers :  0, 1, 1, 2, 3, 5, 8, 13, 21, ....\n",
    "\n",
    "#Every next number is found by adding up the two numbers before it.\n",
    "\n",
    "#Expected Output : 1 1 2 3 5 8 13 21 34\n",
    "\n"
   ]
  },
  {
   "cell_type": "code",
   "execution_count": 2,
   "id": "fb8f4a6a",
   "metadata": {},
   "outputs": [
    {
     "name": "stdout",
     "output_type": "stream",
     "text": [
      "0\n",
      "1\n",
      "1\n",
      "2\n",
      "3\n",
      "5\n",
      "8\n",
      "13\n",
      "21\n",
      "34\n"
     ]
    }
   ],
   "source": [
    "a=0\n",
    "b=1\n",
    "c=0\n",
    "print(a)\n",
    "for i in range(1,50):\n",
    "    a=b\n",
    "    b=c\n",
    "    c=a+b\n",
    "    if c<50:\n",
    "        print(c)"
   ]
  },
  {
   "cell_type": "code",
   "execution_count": null,
   "id": "24fbf61e",
   "metadata": {},
   "outputs": [],
   "source": []
  },
  {
   "cell_type": "markdown",
   "id": "49d530a7",
   "metadata": {},
   "source": [
    "### 2)Write a Python program that accepts a word from the user and reverse it."
   ]
  },
  {
   "cell_type": "code",
   "execution_count": 3,
   "id": "8ab4edfe",
   "metadata": {},
   "outputs": [],
   "source": [
    "#Sample Test Case\n",
    "\n",
    "#Input : Edyoda\n",
    "\n",
    "#output: adoydE\n",
    "\n"
   ]
  },
  {
   "cell_type": "code",
   "execution_count": 6,
   "id": "8e81ee5b",
   "metadata": {},
   "outputs": [
    {
     "name": "stdout",
     "output_type": "stream",
     "text": [
      "Enter the word = Edyoda\n",
      "a d o y d E "
     ]
    }
   ],
   "source": [
    "word=input('Enter the word = ')\n",
    "for i in range((len(word)-1),-1,-1):\n",
    "    print(word[i],end=' ')"
   ]
  },
  {
   "cell_type": "code",
   "execution_count": null,
   "id": "68ae749d",
   "metadata": {},
   "outputs": [],
   "source": []
  },
  {
   "cell_type": "markdown",
   "id": "eea67286",
   "metadata": {},
   "source": [
    "### 3)Write a Python program to count the number of even and odd numbers from a series of numbers."
   ]
  },
  {
   "cell_type": "code",
   "execution_count": 7,
   "id": "77132cff",
   "metadata": {},
   "outputs": [],
   "source": [
    "#Sample numbers : numbers = (1, 2, 3, 4, 5, 6, 7, 8, 9) \n",
    "\n",
    "#Expected Output :\n",
    "\n",
    "#Number of even numbers : 4\n",
    "\n",
    "#Number of odd numbers : 5\n",
    "\n"
   ]
  },
  {
   "cell_type": "code",
   "execution_count": 25,
   "id": "3a376a84",
   "metadata": {},
   "outputs": [
    {
     "name": "stdout",
     "output_type": "stream",
     "text": [
      "Number of even numbe : 4\n",
      "Number of odd number : 5\n"
     ]
    }
   ],
   "source": [
    "list1 =[1,2,3,4,5,6,7,8,9]\n",
    "\n",
    "even_count=0\n",
    "odd_count=0\n",
    "\n",
    "for n in list1:\n",
    "    if n%2 ==0:\n",
    "        even_count+=1\n",
    "    else:\n",
    "         odd_count +=1\n",
    "print('Number of even numbe :',even_count)\n",
    "print('Number of odd number :',odd_count)"
   ]
  },
  {
   "cell_type": "code",
   "execution_count": null,
   "id": "10cd6f2c",
   "metadata": {},
   "outputs": [],
   "source": [
    "\n"
   ]
  },
  {
   "cell_type": "code",
   "execution_count": null,
   "id": "22d8924f",
   "metadata": {},
   "outputs": [],
   "source": []
  }
 ],
 "metadata": {
  "kernelspec": {
   "display_name": "Python 3 (ipykernel)",
   "language": "python",
   "name": "python3"
  },
  "language_info": {
   "codemirror_mode": {
    "name": "ipython",
    "version": 3
   },
   "file_extension": ".py",
   "mimetype": "text/x-python",
   "name": "python",
   "nbconvert_exporter": "python",
   "pygments_lexer": "ipython3",
   "version": "3.9.6"
  }
 },
 "nbformat": 4,
 "nbformat_minor": 5
}
